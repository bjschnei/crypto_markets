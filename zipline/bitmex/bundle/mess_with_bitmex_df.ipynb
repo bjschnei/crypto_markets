{
 "cells": [
  {
   "cell_type": "code",
   "execution_count": 4,
   "metadata": {},
   "outputs": [],
   "source": [
    "import provider\n",
    "import datetime\n",
    "import pytz"
   ]
  },
  {
   "cell_type": "code",
   "execution_count": 5,
   "metadata": {},
   "outputs": [],
   "source": [
    "bmdp = provider.BitmexDataProvider(pytz.utc.localize(datetime.datetime.now()) - datetime.timedelta(days=2),\n",
    "                                   pytz.utc.localize(datetime.datetime.now()))\n",
    "df = await bmdp._ConvertFilesToDataFrames().asend(None)\n",
    "await bmdp.Close()"
   ]
  },
  {
   "cell_type": "code",
   "execution_count": null,
   "metadata": {},
   "outputs": [],
   "source": [
    "import datetime\n",
    "import pandas as pd\n",
    "# compute by the minute Open/High/Low/Close/Volume \n",
    "#df[df['symbol'] == 'XBTUSD']\n",
    "df['timestamp'] = pd.to_datetime(df['timestamp'], format='%Y-%m-%dD%H:%M:%S.%f')\n",
    "df['date'] = df['timestamp'].map(lambda x:x.date())\n",
    "df['hour'] = df['timestamp'].map(lambda x:x.hour)\n",
    "df['minute'] = df['timestamp'].map(lambda x:x.minute)\n",
    "df['second'] = df['timestamp'].map(lambda x:x.second)\n"
   ]
  },
  {
   "cell_type": "code",
   "execution_count": null,
   "metadata": {},
   "outputs": [],
   "source": [
    "df[df['symbol'] == 'XBTUSD']"
   ]
  },
  {
   "cell_type": "code",
   "execution_count": null,
   "metadata": {},
   "outputs": [],
   "source": [
    "xbtusd_df = df[df['symbol'] == 'XBTUSD']\n",
    "group = xbtusd_df.groupby(['symbol','date', 'hour', 'minute'])\n"
   ]
  },
  {
   "cell_type": "code",
   "execution_count": null,
   "metadata": {},
   "outputs": [],
   "source": [
    "# open/high/low/close/volume\n",
    "ohlcv = group.agg({'price': ['first', 'max', 'min', 'last',], 'size': 'sum'})\n",
    "ohlcv"
   ]
  },
  {
   "cell_type": "code",
   "execution_count": null,
   "metadata": {},
   "outputs": [],
   "source": [
    "# spot check agg works correctly for minute OCHLV data\n",
    "l = xbtusd_df[(xbtusd_df['hour'] == 0) & (xbtusd_df['minute'] == 0)]['price'].min()\n",
    "h = xbtusd_df[(xbtusd_df['hour'] == 0) & (xbtusd_df['minute'] == 0)]['price'].max()\n",
    "o = xbtusd_df[(xbtusd_df['hour'] == 0) & (xbtusd_df['minute'] == 0)]['price'].iloc[0]\n",
    "c = xbtusd_df[(xbtusd_df['hour'] == 0) & (xbtusd_df['minute'] == 0)]['price'].iloc[-1]\n",
    "v = xbtusd_df[(xbtusd_df['hour'] == 0) & (xbtusd_df['minute'] == 0)]['size'].sum()\n",
    "\n",
    "(o, c, h, l, v)"
   ]
  },
  {
   "cell_type": "code",
   "execution_count": null,
   "metadata": {},
   "outputs": [],
   "source": [
    "#ohlcv[['price', 'size']]\n",
    "import datetime\n",
    "ohlcv.loc[('XBTUSD', datetime.datetime.now().date() - datetime.timedelta(days=1), 0, 0)]"
   ]
  },
  {
   "cell_type": "code",
   "execution_count": null,
   "metadata": {},
   "outputs": [],
   "source": [
    "all_group = df.groupby(['symbol','date', 'hour', 'minute'])\n",
    "all_ohlcv = all_group.agg({'price': ['first', 'max', 'min', 'last',], 'size': 'sum'})\n"
   ]
  },
  {
   "cell_type": "code",
   "execution_count": null,
   "metadata": {},
   "outputs": [],
   "source": [
    "dir(all_ohlcv.index)"
   ]
  },
  {
   "cell_type": "code",
   "execution_count": null,
   "metadata": {},
   "outputs": [],
   "source": [
    "set(all_ohlcv.index.get_level_values(level=0))"
   ]
  },
  {
   "cell_type": "code",
   "execution_count": null,
   "metadata": {},
   "outputs": [],
   "source": [
    "asset_details = await bmdp.GetAssetDetails(all_ohlcv)"
   ]
  },
  {
   "cell_type": "code",
   "execution_count": null,
   "metadata": {},
   "outputs": [],
   "source": [
    "futures_df = pd.DataFrame()\n",
    "for detail_data in asset_details.values():\n",
    "    # futures sid is the futures_df.index\n",
    "    futures_df = futures_df.append(\n",
    "      pd.DataFrame(pd.Series(detail_data)).T, ignore_index=True).drop_duplicates()\n",
    "futures_df = futures_df[['symbol', 'expiry']].rename_axis('sid')\n"
   ]
  },
  {
   "cell_type": "code",
   "execution_count": null,
   "metadata": {},
   "outputs": [],
   "source": [
    "futures_df"
   ]
  },
  {
   "cell_type": "code",
   "execution_count": null,
   "metadata": {},
   "outputs": [],
   "source": [
    "sid_fdf = futures_df\n",
    "sid_fdf['sid'] = sid_fdf.index\n",
    "a2 = all_ohlcv.copy()\n",
    "a2.columns = a2.columns.droplevel()\n",
    "res = a2.reset_index().merge(sid_fdf, on='symbol')\n"
   ]
  },
  {
   "cell_type": "code",
   "execution_count": null,
   "metadata": {},
   "outputs": [],
   "source": [
    "res2 = res.set_index('date')"
   ]
  },
  {
   "cell_type": "code",
   "execution_count": null,
   "metadata": {},
   "outputs": [],
   "source": [
    "grouped = res2.groupby('sid')\n",
    "writables = []\n",
    "for sid in grouped.groups.keys():\n",
    "    writables.append((sid, grouped.get_group(sid)))\n",
    "writables"
   ]
  },
  {
   "cell_type": "code",
   "execution_count": null,
   "metadata": {},
   "outputs": [],
   "source": [
    "for group in grouped:\n",
    "    print(group[0])"
   ]
  },
  {
   "cell_type": "code",
   "execution_count": null,
   "metadata": {},
   "outputs": [],
   "source": [
    "grouped.groups.keys()"
   ]
  },
  {
   "cell_type": "code",
   "execution_count": null,
   "metadata": {},
   "outputs": [],
   "source": []
  }
 ],
 "metadata": {
  "kernelspec": {
   "display_name": "Python 3",
   "language": "python",
   "name": "python3"
  },
  "language_info": {
   "codemirror_mode": {
    "name": "ipython",
    "version": 3
   },
   "file_extension": ".py",
   "mimetype": "text/x-python",
   "name": "python",
   "nbconvert_exporter": "python",
   "pygments_lexer": "ipython3",
   "version": "3.6.4"
  }
 },
 "nbformat": 4,
 "nbformat_minor": 2
}
