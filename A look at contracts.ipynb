{
 "cells": [
  {
   "cell_type": "code",
   "execution_count": 1,
   "metadata": {},
   "outputs": [],
   "source": [
    "import bitmex_basis_rate\n",
    "import pandas as pd\n",
    "import datetime\n",
    "import itertools"
   ]
  },
  {
   "cell_type": "code",
   "execution_count": 2,
   "metadata": {},
   "outputs": [],
   "source": [
    "num_days = 500\n",
    "end_date = datetime.date.today() - datetime.timedelta(days=1)\n",
    "start_date = end_date - datetime.timedelta(days=num_days)\n",
    "  \n",
    "contract_expirations = bitmex_basis_rate.GetContractExpirations(start_date, num_days)\n",
    "index_prices, futures_prices = bitmex_basis_rate.GetPrices(contract_expirations, start_date, num_days)\n",
    "futures_basis = bitmex_basis_rate.GetBasisRates(contract_expirations, futures_prices, index_prices)"
   ]
  },
  {
   "cell_type": "code",
   "execution_count": 3,
   "metadata": {},
   "outputs": [],
   "source": [
    "expiration_df = pd.DataFrame.from_records(zip(contract_expirations.keys(), contract_expirations.values()), \n",
    "                                          columns=['contract', 'expiry'])\n",
    "index_price_df = pd.DataFrame.from_records(zip(index_prices.keys(), index_prices.values()), \n",
    "                                           columns=['date', 'price'])\n"
   ]
  },
  {
   "cell_type": "code",
   "execution_count": 4,
   "metadata": {},
   "outputs": [],
   "source": [
    "# flatten {contract:{date:price}} to contract, date, price rows\n",
    "fp_dfs = [pd.DataFrame.from_records(zip(prices.keys(), prices.values(), \n",
    "                                        itertools.repeat(contract, len(prices))), \n",
    "                                    columns=['date', 'price', 'contract'])\n",
    "          for contract, prices in futures_prices.items()\n",
    "]\n",
    "\n",
    "futures_price_df = pd.concat(fp_dfs, ignore_index=True)"
   ]
  },
  {
   "cell_type": "code",
   "execution_count": null,
   "metadata": {},
   "outputs": [],
   "source": []
  }
 ],
 "metadata": {
  "kernelspec": {
   "display_name": "Python 3",
   "language": "python",
   "name": "python3"
  },
  "language_info": {
   "codemirror_mode": {
    "name": "ipython",
    "version": 3
   },
   "file_extension": ".py",
   "mimetype": "text/x-python",
   "name": "python",
   "nbconvert_exporter": "python",
   "pygments_lexer": "ipython3",
   "version": "3.6.4"
  }
 },
 "nbformat": 4,
 "nbformat_minor": 2
}
